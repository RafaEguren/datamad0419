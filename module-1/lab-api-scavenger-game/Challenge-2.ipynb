{
 "cells": [
  {
   "cell_type": "code",
   "execution_count": 10,
   "metadata": {},
   "outputs": [],
   "source": [
    "import json\n",
    "import requests"
   ]
  },
  {
   "cell_type": "code",
   "execution_count": 25,
   "metadata": {},
   "outputs": [
    {
     "data": {
      "text/plain": [
       "[{'author': {'avatar_url': 'https://avatars0.githubusercontent.com/u/48920351?v=4',\n",
       "   'events_url': 'https://api.github.com/users/RafaEguren/events{/privacy}',\n",
       "   'followers_url': 'https://api.github.com/users/RafaEguren/followers',\n",
       "   'following_url': 'https://api.github.com/users/RafaEguren/following{/other_user}',\n",
       "   'gists_url': 'https://api.github.com/users/RafaEguren/gists{/gist_id}',\n",
       "   'gravatar_id': '',\n",
       "   'html_url': 'https://github.com/RafaEguren',\n",
       "   'id': 48920351,\n",
       "   'login': 'RafaEguren',\n",
       "   'node_id': 'MDQ6VXNlcjQ4OTIwMzUx',\n",
       "   'organizations_url': 'https://api.github.com/users/RafaEguren/orgs',\n",
       "   'received_events_url': 'https://api.github.com/users/RafaEguren/received_events',\n",
       "   'repos_url': 'https://api.github.com/users/RafaEguren/repos',\n",
       "   'site_admin': False,\n",
       "   'starred_url': 'https://api.github.com/users/RafaEguren/starred{/owner}{/repo}',\n",
       "   'subscriptions_url': 'https://api.github.com/users/RafaEguren/subscriptions',\n",
       "   'type': 'User',\n",
       "   'url': 'https://api.github.com/users/RafaEguren'},\n",
       "  'comments_url': 'https://api.github.com/repos/RafaEguren/lab-data-vikings/commits/d63653695cc47ad631d20a9658615de1fd802c08/comments',\n",
       "  'commit': {'author': {'date': '2019-04-22T07:37:12Z',\n",
       "    'email': 'rafaegurollin@gmail.com',\n",
       "    'name': 'Rafa'},\n",
       "   'comment_count': 0,\n",
       "   'committer': {'date': '2019-04-22T07:37:12Z',\n",
       "    'email': 'rafaegurollin@gmail.com',\n",
       "    'name': 'Rafa'},\n",
       "   'message': 'Done',\n",
       "   'tree': {'sha': '7cf940ca0c4ae3b8b99ec6c3fa4cb2d8cc32749f',\n",
       "    'url': 'https://api.github.com/repos/RafaEguren/lab-data-vikings/git/trees/7cf940ca0c4ae3b8b99ec6c3fa4cb2d8cc32749f'},\n",
       "   'url': 'https://api.github.com/repos/RafaEguren/lab-data-vikings/git/commits/d63653695cc47ad631d20a9658615de1fd802c08',\n",
       "   'verification': {'payload': None,\n",
       "    'reason': 'unsigned',\n",
       "    'signature': None,\n",
       "    'verified': False}},\n",
       "  'committer': {'avatar_url': 'https://avatars0.githubusercontent.com/u/48920351?v=4',\n",
       "   'events_url': 'https://api.github.com/users/RafaEguren/events{/privacy}',\n",
       "   'followers_url': 'https://api.github.com/users/RafaEguren/followers',\n",
       "   'following_url': 'https://api.github.com/users/RafaEguren/following{/other_user}',\n",
       "   'gists_url': 'https://api.github.com/users/RafaEguren/gists{/gist_id}',\n",
       "   'gravatar_id': '',\n",
       "   'html_url': 'https://github.com/RafaEguren',\n",
       "   'id': 48920351,\n",
       "   'login': 'RafaEguren',\n",
       "   'node_id': 'MDQ6VXNlcjQ4OTIwMzUx',\n",
       "   'organizations_url': 'https://api.github.com/users/RafaEguren/orgs',\n",
       "   'received_events_url': 'https://api.github.com/users/RafaEguren/received_events',\n",
       "   'repos_url': 'https://api.github.com/users/RafaEguren/repos',\n",
       "   'site_admin': False,\n",
       "   'starred_url': 'https://api.github.com/users/RafaEguren/starred{/owner}{/repo}',\n",
       "   'subscriptions_url': 'https://api.github.com/users/RafaEguren/subscriptions',\n",
       "   'type': 'User',\n",
       "   'url': 'https://api.github.com/users/RafaEguren'},\n",
       "  'html_url': 'https://github.com/RafaEguren/lab-data-vikings/commit/d63653695cc47ad631d20a9658615de1fd802c08',\n",
       "  'node_id': 'MDY6Q29tbWl0MTgyNjQ1Mjg4OmQ2MzY1MzY5NWNjNDdhZDYzMWQyMGE5NjU4NjE1ZGUxZmQ4MDJjMDg=',\n",
       "  'parents': [{'html_url': 'https://github.com/RafaEguren/lab-data-vikings/commit/a23000ce3e218676acb2fd071b901c3e041fcc09',\n",
       "    'sha': 'a23000ce3e218676acb2fd071b901c3e041fcc09',\n",
       "    'url': 'https://api.github.com/repos/RafaEguren/lab-data-vikings/commits/a23000ce3e218676acb2fd071b901c3e041fcc09'}],\n",
       "  'sha': 'd63653695cc47ad631d20a9658615de1fd802c08',\n",
       "  'url': 'https://api.github.com/repos/RafaEguren/lab-data-vikings/commits/d63653695cc47ad631d20a9658615de1fd802c08'},\n",
       " {'author': {'avatar_url': 'https://avatars0.githubusercontent.com/u/33903092?v=4',\n",
       "   'events_url': 'https://api.github.com/users/Girgetto/events{/privacy}',\n",
       "   'followers_url': 'https://api.github.com/users/Girgetto/followers',\n",
       "   'following_url': 'https://api.github.com/users/Girgetto/following{/other_user}',\n",
       "   'gists_url': 'https://api.github.com/users/Girgetto/gists{/gist_id}',\n",
       "   'gravatar_id': '',\n",
       "   'html_url': 'https://github.com/Girgetto',\n",
       "   'id': 33903092,\n",
       "   'login': 'Girgetto',\n",
       "   'node_id': 'MDQ6VXNlcjMzOTAzMDky',\n",
       "   'organizations_url': 'https://api.github.com/users/Girgetto/orgs',\n",
       "   'received_events_url': 'https://api.github.com/users/Girgetto/received_events',\n",
       "   'repos_url': 'https://api.github.com/users/Girgetto/repos',\n",
       "   'site_admin': False,\n",
       "   'starred_url': 'https://api.github.com/users/Girgetto/starred{/owner}{/repo}',\n",
       "   'subscriptions_url': 'https://api.github.com/users/Girgetto/subscriptions',\n",
       "   'type': 'User',\n",
       "   'url': 'https://api.github.com/users/Girgetto'},\n",
       "  'comments_url': 'https://api.github.com/repos/RafaEguren/lab-data-vikings/commits/a23000ce3e218676acb2fd071b901c3e041fcc09/comments',\n",
       "  'commit': {'author': {'date': '2019-04-18T13:58:22Z',\n",
       "    'email': 'giorgiograssini@gmail.com',\n",
       "    'name': 'Giorgio Grassini'},\n",
       "   'comment_count': 0,\n",
       "   'committer': {'date': '2019-04-18T13:58:22Z',\n",
       "    'email': 'giorgiograssini@gmail.com',\n",
       "    'name': 'Giorgio Grassini'},\n",
       "   'message': 'Fixed misspelling 🚑',\n",
       "   'tree': {'sha': '84bacc13901784a1e156ba805919ca2018dbe6bd',\n",
       "    'url': 'https://api.github.com/repos/RafaEguren/lab-data-vikings/git/trees/84bacc13901784a1e156ba805919ca2018dbe6bd'},\n",
       "   'url': 'https://api.github.com/repos/RafaEguren/lab-data-vikings/git/commits/a23000ce3e218676acb2fd071b901c3e041fcc09',\n",
       "   'verification': {'payload': None,\n",
       "    'reason': 'unsigned',\n",
       "    'signature': None,\n",
       "    'verified': False}},\n",
       "  'committer': {'avatar_url': 'https://avatars0.githubusercontent.com/u/33903092?v=4',\n",
       "   'events_url': 'https://api.github.com/users/Girgetto/events{/privacy}',\n",
       "   'followers_url': 'https://api.github.com/users/Girgetto/followers',\n",
       "   'following_url': 'https://api.github.com/users/Girgetto/following{/other_user}',\n",
       "   'gists_url': 'https://api.github.com/users/Girgetto/gists{/gist_id}',\n",
       "   'gravatar_id': '',\n",
       "   'html_url': 'https://github.com/Girgetto',\n",
       "   'id': 33903092,\n",
       "   'login': 'Girgetto',\n",
       "   'node_id': 'MDQ6VXNlcjMzOTAzMDky',\n",
       "   'organizations_url': 'https://api.github.com/users/Girgetto/orgs',\n",
       "   'received_events_url': 'https://api.github.com/users/Girgetto/received_events',\n",
       "   'repos_url': 'https://api.github.com/users/Girgetto/repos',\n",
       "   'site_admin': False,\n",
       "   'starred_url': 'https://api.github.com/users/Girgetto/starred{/owner}{/repo}',\n",
       "   'subscriptions_url': 'https://api.github.com/users/Girgetto/subscriptions',\n",
       "   'type': 'User',\n",
       "   'url': 'https://api.github.com/users/Girgetto'},\n",
       "  'html_url': 'https://github.com/RafaEguren/lab-data-vikings/commit/a23000ce3e218676acb2fd071b901c3e041fcc09',\n",
       "  'node_id': 'MDY6Q29tbWl0MTgyNjQ1Mjg4OmEyMzAwMGNlM2UyMTg2NzZhY2IyZmQwNzFiOTAxYzNlMDQxZmNjMDk=',\n",
       "  'parents': [{'html_url': 'https://github.com/RafaEguren/lab-data-vikings/commit/cdd61a1809f6757378766fd6d4a3398d7bd764bd',\n",
       "    'sha': 'cdd61a1809f6757378766fd6d4a3398d7bd764bd',\n",
       "    'url': 'https://api.github.com/repos/RafaEguren/lab-data-vikings/commits/cdd61a1809f6757378766fd6d4a3398d7bd764bd'}],\n",
       "  'sha': 'a23000ce3e218676acb2fd071b901c3e041fcc09',\n",
       "  'url': 'https://api.github.com/repos/RafaEguren/lab-data-vikings/commits/a23000ce3e218676acb2fd071b901c3e041fcc09'}]"
      ]
     },
     "execution_count": 25,
     "metadata": {},
     "output_type": "execute_result"
    }
   ],
   "source": [
    "response = requests.get('https://api.github.com/repos/RafaEguren/lab-data-vikings/commits?\\\n",
    "since=2019-04-17T00:00:00Z')\n",
    "commits = response.json()\n",
    "commits"
   ]
  },
  {
   "cell_type": "code",
   "execution_count": 27,
   "metadata": {},
   "outputs": [
    {
     "data": {
      "text/plain": [
       "2"
      ]
     },
     "execution_count": 27,
     "metadata": {},
     "output_type": "execute_result"
    }
   ],
   "source": [
    "len(commits)"
   ]
  }
 ],
 "metadata": {
  "kernelspec": {
   "display_name": "Python 3",
   "language": "python",
   "name": "python3"
  },
  "language_info": {
   "codemirror_mode": {
    "name": "ipython",
    "version": 3
   },
   "file_extension": ".py",
   "mimetype": "text/x-python",
   "name": "python",
   "nbconvert_exporter": "python",
   "pygments_lexer": "ipython3",
   "version": "3.5.2"
  }
 },
 "nbformat": 4,
 "nbformat_minor": 2
}
