{
 "cells": [
  {
   "cell_type": "markdown",
   "metadata": {},
   "source": [
    "# Pipeline Project Rafael Eguren"
   ]
  },
  {
   "cell_type": "markdown",
   "metadata": {},
   "source": [
    "### En este proyecto voy a hacer un análisis del mercado de coches de segunda mano en España. Para este análisis voy a usar el siguente dataset cogido de Kaggle: https://www.kaggle.com/harturo123/online-adds-of-used-cars Según la información de Kaggle, este dataset ha sido extraído de la web especializada en coches https://www.autoscout24.com/ a fecha 18/03/2018.\n",
    "### Voy a comenzar limpiando el dataset, posteriormente lo completaré con una api y finalmente sacaré una tabla con las conclusiones. En otro archivo llamado Pipeline_Rafael_Eguren.py podremos sacar las conclusiones a través de terminal gracias al pipeline desarrollado en ese archivo.\n",
    "### El objetivo de este análisis es conseguir una tabla que permita ver rápidamente y de forma sencilla como está configurado el parque de coches de segunda mano en España, sacando las marcas y modelos que los componen, cuantas unidades hay de cada modelo y obteniendo una media de los kilómetros, potencia, antigüedad y precio de cada modelo de coche de segunda mano."
   ]
  },
  {
   "cell_type": "markdown",
   "metadata": {},
   "source": [
    "Importo las librerías que voy a usar en esta primera parte."
   ]
  },
  {
   "cell_type": "code",
   "execution_count": 19,
   "metadata": {},
   "outputs": [],
   "source": [
    "import pandas as pd\n",
    "import numpy as np"
   ]
  },
  {
   "cell_type": "markdown",
   "metadata": {},
   "source": [
    "Leo el archivo en fomato .csv que voy a utilizar."
   ]
  },
  {
   "cell_type": "code",
   "execution_count": 21,
   "metadata": {
    "scrolled": true
   },
   "outputs": [
    {
     "data": {
      "text/html": [
       "<div>\n",
       "<style scoped>\n",
       "    .dataframe tbody tr th:only-of-type {\n",
       "        vertical-align: middle;\n",
       "    }\n",
       "\n",
       "    .dataframe tbody tr th {\n",
       "        vertical-align: top;\n",
       "    }\n",
       "\n",
       "    .dataframe thead th {\n",
       "        text-align: right;\n",
       "    }\n",
       "</style>\n",
       "<table border=\"1\" class=\"dataframe\">\n",
       "  <thead>\n",
       "    <tr style=\"text-align: right;\">\n",
       "      <th></th>\n",
       "      <th>ID</th>\n",
       "      <th>make</th>\n",
       "      <th>model</th>\n",
       "      <th>version</th>\n",
       "      <th>months_old</th>\n",
       "      <th>power</th>\n",
       "      <th>sale_type</th>\n",
       "      <th>num_owners</th>\n",
       "      <th>gear_type</th>\n",
       "      <th>fuel_type</th>\n",
       "      <th>kms</th>\n",
       "      <th>price</th>\n",
       "    </tr>\n",
       "  </thead>\n",
       "  <tbody>\n",
       "    <tr>\n",
       "      <th>0</th>\n",
       "      <td>97860</td>\n",
       "      <td>Porsche</td>\n",
       "      <td>911</td>\n",
       "      <td>Carrera 4 S Coup�</td>\n",
       "      <td>240.0</td>\n",
       "      <td>210.0</td>\n",
       "      <td>classic</td>\n",
       "      <td>3.0</td>\n",
       "      <td>manual</td>\n",
       "      <td>gasoline</td>\n",
       "      <td>202000.0</td>\n",
       "      <td>999999</td>\n",
       "    </tr>\n",
       "    <tr>\n",
       "      <th>1</th>\n",
       "      <td>27821</td>\n",
       "      <td>Ford</td>\n",
       "      <td>Mustang</td>\n",
       "      <td>Gt500 Cabrio Vendido</td>\n",
       "      <td>54.0</td>\n",
       "      <td>487.0</td>\n",
       "      <td>used</td>\n",
       "      <td>1.0</td>\n",
       "      <td>manual</td>\n",
       "      <td>gasoline</td>\n",
       "      <td>30000.0</td>\n",
       "      <td>685000</td>\n",
       "    </tr>\n",
       "    <tr>\n",
       "      <th>2</th>\n",
       "      <td>97801</td>\n",
       "      <td>Porsche</td>\n",
       "      <td>911</td>\n",
       "      <td>3.3 Turbo Targa (Precio A Consultar)</td>\n",
       "      <td>358.0</td>\n",
       "      <td>220.0</td>\n",
       "      <td>used</td>\n",
       "      <td>NaN</td>\n",
       "      <td>manual</td>\n",
       "      <td>gasoline</td>\n",
       "      <td>56300.0</td>\n",
       "      <td>555555</td>\n",
       "    </tr>\n",
       "    <tr>\n",
       "      <th>3</th>\n",
       "      <td>98251</td>\n",
       "      <td>Porsche</td>\n",
       "      <td>911</td>\n",
       "      <td>R Unidad 343 De 991-Iva Deducible</td>\n",
       "      <td>14.0</td>\n",
       "      <td>368.0</td>\n",
       "      <td>used</td>\n",
       "      <td>1.0</td>\n",
       "      <td>manual</td>\n",
       "      <td>gasoline</td>\n",
       "      <td>2800.0</td>\n",
       "      <td>470000</td>\n",
       "    </tr>\n",
       "    <tr>\n",
       "      <th>4</th>\n",
       "      <td>98250</td>\n",
       "      <td>Porsche</td>\n",
       "      <td>911</td>\n",
       "      <td>Gt2 Rs</td>\n",
       "      <td>3.0</td>\n",
       "      <td>515.0</td>\n",
       "      <td>used</td>\n",
       "      <td>NaN</td>\n",
       "      <td>NaN</td>\n",
       "      <td>gasoline</td>\n",
       "      <td>10.0</td>\n",
       "      <td>450000</td>\n",
       "    </tr>\n",
       "  </tbody>\n",
       "</table>\n",
       "</div>"
      ],
      "text/plain": [
       "      ID     make    model                               version  months_old  \\\n",
       "0  97860  Porsche      911                     Carrera 4 S Coup�       240.0   \n",
       "1  27821     Ford  Mustang                  Gt500 Cabrio Vendido        54.0   \n",
       "2  97801  Porsche      911  3.3 Turbo Targa (Precio A Consultar)       358.0   \n",
       "3  98251  Porsche      911     R Unidad 343 De 991-Iva Deducible        14.0   \n",
       "4  98250  Porsche      911                                Gt2 Rs         3.0   \n",
       "\n",
       "   power sale_type  num_owners gear_type fuel_type       kms   price  \n",
       "0  210.0   classic         3.0    manual  gasoline  202000.0  999999  \n",
       "1  487.0      used         1.0    manual  gasoline   30000.0  685000  \n",
       "2  220.0      used         NaN    manual  gasoline   56300.0  555555  \n",
       "3  368.0      used         1.0    manual  gasoline    2800.0  470000  \n",
       "4  515.0      used         NaN       NaN  gasoline      10.0  450000  "
      ]
     },
     "execution_count": 21,
     "metadata": {},
     "output_type": "execute_result"
    }
   ],
   "source": [
    "cars = pd.read_csv('./data.csv', sep=';')\n",
    "cars.head()"
   ]
  },
  {
   "cell_type": "markdown",
   "metadata": {},
   "source": [
    "Miro si hay duplicados y los elimino en caso de que los haya."
   ]
  },
  {
   "cell_type": "code",
   "execution_count": 22,
   "metadata": {
    "scrolled": true
   },
   "outputs": [
    {
     "name": "stdout",
     "output_type": "stream",
     "text": [
      "Number of duplicate records dropped:  0\n"
     ]
    }
   ],
   "source": [
    "before = len(cars)\n",
    "cars1 = cars.drop_duplicates()\n",
    "after = len(cars1)\n",
    "print('Number of duplicate records dropped: ', str(before - after))"
   ]
  },
  {
   "cell_type": "markdown",
   "metadata": {},
   "source": [
    "Selecciono las columnas que me quiero quedar para mi análisis."
   ]
  },
  {
   "cell_type": "code",
   "execution_count": 23,
   "metadata": {
    "scrolled": true
   },
   "outputs": [
    {
     "data": {
      "text/html": [
       "<div>\n",
       "<style scoped>\n",
       "    .dataframe tbody tr th:only-of-type {\n",
       "        vertical-align: middle;\n",
       "    }\n",
       "\n",
       "    .dataframe tbody tr th {\n",
       "        vertical-align: top;\n",
       "    }\n",
       "\n",
       "    .dataframe thead th {\n",
       "        text-align: right;\n",
       "    }\n",
       "</style>\n",
       "<table border=\"1\" class=\"dataframe\">\n",
       "  <thead>\n",
       "    <tr style=\"text-align: right;\">\n",
       "      <th></th>\n",
       "      <th>make</th>\n",
       "      <th>model</th>\n",
       "      <th>months_old</th>\n",
       "      <th>power</th>\n",
       "      <th>gear_type</th>\n",
       "      <th>fuel_type</th>\n",
       "      <th>kms</th>\n",
       "      <th>price</th>\n",
       "    </tr>\n",
       "  </thead>\n",
       "  <tbody>\n",
       "    <tr>\n",
       "      <th>0</th>\n",
       "      <td>Porsche</td>\n",
       "      <td>911</td>\n",
       "      <td>240.0</td>\n",
       "      <td>210.0</td>\n",
       "      <td>manual</td>\n",
       "      <td>gasoline</td>\n",
       "      <td>202000.0</td>\n",
       "      <td>999999</td>\n",
       "    </tr>\n",
       "    <tr>\n",
       "      <th>1</th>\n",
       "      <td>Ford</td>\n",
       "      <td>Mustang</td>\n",
       "      <td>54.0</td>\n",
       "      <td>487.0</td>\n",
       "      <td>manual</td>\n",
       "      <td>gasoline</td>\n",
       "      <td>30000.0</td>\n",
       "      <td>685000</td>\n",
       "    </tr>\n",
       "    <tr>\n",
       "      <th>2</th>\n",
       "      <td>Porsche</td>\n",
       "      <td>911</td>\n",
       "      <td>358.0</td>\n",
       "      <td>220.0</td>\n",
       "      <td>manual</td>\n",
       "      <td>gasoline</td>\n",
       "      <td>56300.0</td>\n",
       "      <td>555555</td>\n",
       "    </tr>\n",
       "    <tr>\n",
       "      <th>3</th>\n",
       "      <td>Porsche</td>\n",
       "      <td>911</td>\n",
       "      <td>14.0</td>\n",
       "      <td>368.0</td>\n",
       "      <td>manual</td>\n",
       "      <td>gasoline</td>\n",
       "      <td>2800.0</td>\n",
       "      <td>470000</td>\n",
       "    </tr>\n",
       "    <tr>\n",
       "      <th>4</th>\n",
       "      <td>Porsche</td>\n",
       "      <td>911</td>\n",
       "      <td>3.0</td>\n",
       "      <td>515.0</td>\n",
       "      <td>NaN</td>\n",
       "      <td>gasoline</td>\n",
       "      <td>10.0</td>\n",
       "      <td>450000</td>\n",
       "    </tr>\n",
       "  </tbody>\n",
       "</table>\n",
       "</div>"
      ],
      "text/plain": [
       "      make    model  months_old  power gear_type fuel_type       kms   price\n",
       "0  Porsche      911       240.0  210.0    manual  gasoline  202000.0  999999\n",
       "1     Ford  Mustang        54.0  487.0    manual  gasoline   30000.0  685000\n",
       "2  Porsche      911       358.0  220.0    manual  gasoline   56300.0  555555\n",
       "3  Porsche      911        14.0  368.0    manual  gasoline    2800.0  470000\n",
       "4  Porsche      911         3.0  515.0       NaN  gasoline      10.0  450000"
      ]
     },
     "execution_count": 23,
     "metadata": {},
     "output_type": "execute_result"
    }
   ],
   "source": [
    "cars1 = cars1[['make', 'model', 'months_old', 'power','gear_type','fuel_type','kms','price']]\n",
    "cars1.head()"
   ]
  },
  {
   "cell_type": "markdown",
   "metadata": {},
   "source": [
    "Veo que la columna que me indica la antigüedad del vehículo está en meses, creo que en estos casos es mejor tener la antigüedad en años, por lo que creo una nueva columna que me indique su atigüedad en años. Para ellos cojo la columna que está en meses y la divido entre 12 para sacar los años."
   ]
  },
  {
   "cell_type": "code",
   "execution_count": 24,
   "metadata": {},
   "outputs": [
    {
     "data": {
      "text/html": [
       "<div>\n",
       "<style scoped>\n",
       "    .dataframe tbody tr th:only-of-type {\n",
       "        vertical-align: middle;\n",
       "    }\n",
       "\n",
       "    .dataframe tbody tr th {\n",
       "        vertical-align: top;\n",
       "    }\n",
       "\n",
       "    .dataframe thead th {\n",
       "        text-align: right;\n",
       "    }\n",
       "</style>\n",
       "<table border=\"1\" class=\"dataframe\">\n",
       "  <thead>\n",
       "    <tr style=\"text-align: right;\">\n",
       "      <th></th>\n",
       "      <th>make</th>\n",
       "      <th>model</th>\n",
       "      <th>months_old</th>\n",
       "      <th>power</th>\n",
       "      <th>gear_type</th>\n",
       "      <th>fuel_type</th>\n",
       "      <th>kms</th>\n",
       "      <th>price</th>\n",
       "      <th>old_years</th>\n",
       "    </tr>\n",
       "  </thead>\n",
       "  <tbody>\n",
       "    <tr>\n",
       "      <th>0</th>\n",
       "      <td>Porsche</td>\n",
       "      <td>911</td>\n",
       "      <td>240.0</td>\n",
       "      <td>210.0</td>\n",
       "      <td>manual</td>\n",
       "      <td>gasoline</td>\n",
       "      <td>202000.0</td>\n",
       "      <td>999999</td>\n",
       "      <td>20.0</td>\n",
       "    </tr>\n",
       "    <tr>\n",
       "      <th>1</th>\n",
       "      <td>Ford</td>\n",
       "      <td>Mustang</td>\n",
       "      <td>54.0</td>\n",
       "      <td>487.0</td>\n",
       "      <td>manual</td>\n",
       "      <td>gasoline</td>\n",
       "      <td>30000.0</td>\n",
       "      <td>685000</td>\n",
       "      <td>4.0</td>\n",
       "    </tr>\n",
       "    <tr>\n",
       "      <th>2</th>\n",
       "      <td>Porsche</td>\n",
       "      <td>911</td>\n",
       "      <td>358.0</td>\n",
       "      <td>220.0</td>\n",
       "      <td>manual</td>\n",
       "      <td>gasoline</td>\n",
       "      <td>56300.0</td>\n",
       "      <td>555555</td>\n",
       "      <td>30.0</td>\n",
       "    </tr>\n",
       "    <tr>\n",
       "      <th>3</th>\n",
       "      <td>Porsche</td>\n",
       "      <td>911</td>\n",
       "      <td>14.0</td>\n",
       "      <td>368.0</td>\n",
       "      <td>manual</td>\n",
       "      <td>gasoline</td>\n",
       "      <td>2800.0</td>\n",
       "      <td>470000</td>\n",
       "      <td>1.0</td>\n",
       "    </tr>\n",
       "    <tr>\n",
       "      <th>4</th>\n",
       "      <td>Porsche</td>\n",
       "      <td>911</td>\n",
       "      <td>3.0</td>\n",
       "      <td>515.0</td>\n",
       "      <td>NaN</td>\n",
       "      <td>gasoline</td>\n",
       "      <td>10.0</td>\n",
       "      <td>450000</td>\n",
       "      <td>0.0</td>\n",
       "    </tr>\n",
       "  </tbody>\n",
       "</table>\n",
       "</div>"
      ],
      "text/plain": [
       "      make    model  months_old  power gear_type fuel_type       kms   price  \\\n",
       "0  Porsche      911       240.0  210.0    manual  gasoline  202000.0  999999   \n",
       "1     Ford  Mustang        54.0  487.0    manual  gasoline   30000.0  685000   \n",
       "2  Porsche      911       358.0  220.0    manual  gasoline   56300.0  555555   \n",
       "3  Porsche      911        14.0  368.0    manual  gasoline    2800.0  470000   \n",
       "4  Porsche      911         3.0  515.0       NaN  gasoline      10.0  450000   \n",
       "\n",
       "   old_years  \n",
       "0       20.0  \n",
       "1        4.0  \n",
       "2       30.0  \n",
       "3        1.0  \n",
       "4        0.0  "
      ]
     },
     "execution_count": 24,
     "metadata": {},
     "output_type": "execute_result"
    }
   ],
   "source": [
    "cars1['old_years'] = cars1['months_old'].divide(12).round()\n",
    "cars1.head()"
   ]
  },
  {
   "cell_type": "markdown",
   "metadata": {},
   "source": [
    "Una vez creada la nueva columna en años, elimino la columna de los meses, ya que no me hace falta."
   ]
  },
  {
   "cell_type": "code",
   "execution_count": 25,
   "metadata": {
    "scrolled": false
   },
   "outputs": [
    {
     "data": {
      "text/html": [
       "<div>\n",
       "<style scoped>\n",
       "    .dataframe tbody tr th:only-of-type {\n",
       "        vertical-align: middle;\n",
       "    }\n",
       "\n",
       "    .dataframe tbody tr th {\n",
       "        vertical-align: top;\n",
       "    }\n",
       "\n",
       "    .dataframe thead th {\n",
       "        text-align: right;\n",
       "    }\n",
       "</style>\n",
       "<table border=\"1\" class=\"dataframe\">\n",
       "  <thead>\n",
       "    <tr style=\"text-align: right;\">\n",
       "      <th></th>\n",
       "      <th>make</th>\n",
       "      <th>model</th>\n",
       "      <th>power</th>\n",
       "      <th>gear_type</th>\n",
       "      <th>fuel_type</th>\n",
       "      <th>kms</th>\n",
       "      <th>old_years</th>\n",
       "      <th>price</th>\n",
       "    </tr>\n",
       "  </thead>\n",
       "  <tbody>\n",
       "    <tr>\n",
       "      <th>0</th>\n",
       "      <td>Porsche</td>\n",
       "      <td>911</td>\n",
       "      <td>210.0</td>\n",
       "      <td>manual</td>\n",
       "      <td>gasoline</td>\n",
       "      <td>202000.0</td>\n",
       "      <td>20.0</td>\n",
       "      <td>999999</td>\n",
       "    </tr>\n",
       "    <tr>\n",
       "      <th>1</th>\n",
       "      <td>Ford</td>\n",
       "      <td>Mustang</td>\n",
       "      <td>487.0</td>\n",
       "      <td>manual</td>\n",
       "      <td>gasoline</td>\n",
       "      <td>30000.0</td>\n",
       "      <td>4.0</td>\n",
       "      <td>685000</td>\n",
       "    </tr>\n",
       "    <tr>\n",
       "      <th>2</th>\n",
       "      <td>Porsche</td>\n",
       "      <td>911</td>\n",
       "      <td>220.0</td>\n",
       "      <td>manual</td>\n",
       "      <td>gasoline</td>\n",
       "      <td>56300.0</td>\n",
       "      <td>30.0</td>\n",
       "      <td>555555</td>\n",
       "    </tr>\n",
       "    <tr>\n",
       "      <th>3</th>\n",
       "      <td>Porsche</td>\n",
       "      <td>911</td>\n",
       "      <td>368.0</td>\n",
       "      <td>manual</td>\n",
       "      <td>gasoline</td>\n",
       "      <td>2800.0</td>\n",
       "      <td>1.0</td>\n",
       "      <td>470000</td>\n",
       "    </tr>\n",
       "    <tr>\n",
       "      <th>4</th>\n",
       "      <td>Porsche</td>\n",
       "      <td>911</td>\n",
       "      <td>515.0</td>\n",
       "      <td>NaN</td>\n",
       "      <td>gasoline</td>\n",
       "      <td>10.0</td>\n",
       "      <td>0.0</td>\n",
       "      <td>450000</td>\n",
       "    </tr>\n",
       "  </tbody>\n",
       "</table>\n",
       "</div>"
      ],
      "text/plain": [
       "      make    model  power gear_type fuel_type       kms  old_years   price\n",
       "0  Porsche      911  210.0    manual  gasoline  202000.0       20.0  999999\n",
       "1     Ford  Mustang  487.0    manual  gasoline   30000.0        4.0  685000\n",
       "2  Porsche      911  220.0    manual  gasoline   56300.0       30.0  555555\n",
       "3  Porsche      911  368.0    manual  gasoline    2800.0        1.0  470000\n",
       "4  Porsche      911  515.0       NaN  gasoline      10.0        0.0  450000"
      ]
     },
     "execution_count": 25,
     "metadata": {},
     "output_type": "execute_result"
    }
   ],
   "source": [
    "cars1 = cars1[['make', 'model', 'power','gear_type','fuel_type','kms','old_years','price']]\n",
    "cars1.head()"
   ]
  },
  {
   "cell_type": "markdown",
   "metadata": {},
   "source": [
    "Voy a mirar si todos los valores únicos de la columna 'make' son correctos."
   ]
  },
  {
   "cell_type": "code",
   "execution_count": 26,
   "metadata": {},
   "outputs": [
    {
     "name": "stdout",
     "output_type": "stream",
     "text": [
      "{'Volvo', 'Jaguar', 'Renault', 'Jeep', 'Peugeot', 'Dacia', 'Porsche', 'Honda', 'Chevrolet', 'Bmw', 'Alfa', 'Hyundai', 'Audi', 'Nissan', 'Mitsubishi', 'Land', 'Fiat', 'Ds', 'Ford', 'Ssangyong', 'Mini', 'Chrysler', 'Bentley', 'Volkswagen', 'Toyota', 'Suzuki', 'Saab', 'Smart', 'Mercedes-Benz', 'Skoda', 'Kia', 'Opel', 'Seat', 'Iveco', 'Citroen', 'Mazda'}\n"
     ]
    }
   ],
   "source": [
    "print(set(cars1['make']))"
   ]
  },
  {
   "cell_type": "markdown",
   "metadata": {},
   "source": [
    "Hago lo mismo pero con los valores de la columna 'model'."
   ]
  },
  {
   "cell_type": "code",
   "execution_count": 27,
   "metadata": {
    "scrolled": true
   },
   "outputs": [
    {
     "name": "stdout",
     "output_type": "stream",
     "text": [
      "{'Rav4', '500', 'V220', 'E320', 'Berlingo', 'Polo', 'Sharan', 'Talisman', 'Spacetourer', 'I10', 'A7', 'Asx', 'Meriva', 'Corsa', 'XsaraPicasso', 'Xc90', 'Tt', '640', 'Ml350', 'Forfour', 'C2', 'Punto', 'Touareg', '6', 'Continental', 'RomeoMito', 'Verso', 'A1', 'A3', 'X5', 'Leon', 'C5', '216', 'GrandScenic', 'Panamera', '5008', 'X-Trail', 'Qashqai', 'Ix35', 'RoverRangeRover', 'Kuga', 'Beetle', 'Octavia', 'Mondeo', 'Civic', 'AutomobilesDs5', '3008', 'Rexton', '120', 'Pulsar', 'Boxster', 'Expert', 'Gla200', 'LandCruiser', '911', 'Kangoo', 'RoverFreelander', '730', 'RoverDiscovery', 'C-Max', '325', 'S40', 'Cordoba', 'Sandero', 'E350', 'I20', 'E220', 'Golf', 'Focus', 'X3', 'PassatVariant', 'Q3', 'Carnival', 'Ka/Ka+', 'Aveo', 'Transporter', '530', 'Mokka', 'S60', 'Compass', 'S-Max', 'GrandC4Picasso', 'Ateca', 'Vectra', '500C', 'C4Picasso', 'Jumpy', 'I30', 'Rio', 'A4Allroad', 'Zafira', 'C4', 'TransitConnect', 'I40', 'V60', 'Q2', 'Q5', 'B-Max', 'Touran', '116', 'Wrangler', 'Scenic', 'V40Cc', 'RoverRangeRoverSport', 'A180', 'RomeoGiulietta', 'Sportage', 'Passat', 'Tipo', 'Accord', 'Cla220', 'Ibiza', 'Cls350', 'V40', 'Astra', 'Partner', 'Xe', 'Cooper', 'C3Picasso', 'Note', '525', 'Cx-5', 'Macan', 'Superb', '320', 'Auris', 'Qashqai+2', 'Outlander', 'AlteaXl', 'C3', '9-3', 'Avensis', 'SantaFe', '330', 'Picanto', 'Voyager', 'RoverDefender', 'C200', 'GrandVoyager', 'Alhambra', 'Vivaro', 'Cla200', 'A4', \"Cee'D\", 'B200', 'A5', 'Insignia', 'Bipper', 'Viano', 'Xc60', '316', 'B180', '500X', 'X1', 'Duster', 'Z4', 'Rodius', 'Cc', 'A8', 'Captur', 'X6', 'Captiva', 'Mustang', 'Carens', 'Jumper', 'GolfGti', 'Fortwo', 'GolfVariant', 'Vito', 'Trafic', 'Xsara', 'Fabia', 'GolfSportsvan', 'AutomobilesDs3', 'Citan', '407', 'Xf', 'C-Elys�e', 'Espace', '206', 'A200', '2008', 'GrandC-Max', 'Doblo', '308', '500L', '420', '208', 'X4', 'Cayenne', 'Ml320', 'Aygo', 'Eos', 'Altea', 'Yaris', 'Juke', 'Micra', '220', 'Antara', 'Slk200', 'Adam', 'Cruze', 'Exeo', '118', '307', '520', 'Scirocco', 'GrandCherokee', 'C3Aircross', 'Combo', '218', '318', '508', 'C220', 'Laguna', 'Daily', 'Megane', 'Tucson', 'Kadjar', 'Toledo', 'Rapid/Spaceback', 'Panda', 'Ix20', 'T5Multivan', 'C4Cactus', 'A6', 'Caddy', 'Transit', 'Fiorino', 'AutomobilesDs4', '207', 'ZafiraTourer', 'Fiesta', 'Montero', 'Ducato', 'Sprinter', 'RoverRangeRoverEvoque', 'Tiguan', 'Renegade', 'CooperD', '3', 'Ecosport', 'Twingo', 'Cr-V', 'Clio', 'GrandVitara', 'Q7'}\n"
     ]
    }
   ],
   "source": [
    "print(set(cars1['model']))"
   ]
  },
  {
   "cell_type": "markdown",
   "metadata": {},
   "source": [
    "Veo que hay un valor que me aporta un símbolo extraño, como seguramente me vaya a dar problemas, decido reemplazar ese nombre por otro con la función .replace."
   ]
  },
  {
   "cell_type": "code",
   "execution_count": 28,
   "metadata": {
    "scrolled": true
   },
   "outputs": [
    {
     "name": "stdout",
     "output_type": "stream",
     "text": [
      "{'Rav4', '500', 'V220', 'E320', 'Berlingo', 'Polo', 'Sharan', 'Talisman', 'Spacetourer', 'I10', 'A7', 'Asx', 'Meriva', 'Corsa', 'XsaraPicasso', 'Xc90', 'Tt', '640', 'Ml350', 'Forfour', 'C2', 'Punto', 'Touareg', '6', 'Continental', 'RomeoMito', 'Verso', 'A1', 'A3', 'X5', 'Leon', 'C5', '216', 'GrandScenic', 'Panamera', '5008', 'X-Trail', 'Qashqai', 'Ix35', 'RoverRangeRover', 'Kuga', 'Beetle', 'Octavia', 'Mondeo', 'Civic', 'AutomobilesDs5', '3008', 'Rexton', '120', 'Pulsar', 'Boxster', 'Expert', 'Gla200', 'LandCruiser', '911', 'Kangoo', 'RoverFreelander', '730', 'RoverDiscovery', 'C-Max', '325', 'S40', 'Cordoba', 'Sandero', 'E350', 'I20', 'E220', 'Golf', 'Focus', 'X3', 'PassatVariant', 'Q3', 'Carnival', 'Ka/Ka+', 'Aveo', 'Transporter', '530', 'Mokka', 'S60', 'Compass', 'S-Max', 'GrandC4Picasso', 'Ateca', 'Vectra', '500C', 'C4Picasso', 'Jumpy', 'I30', 'Rio', 'A4Allroad', 'Zafira', 'C4', 'TransitConnect', 'I40', 'V60', 'Q2', 'Q5', 'B-Max', 'Touran', '116', 'Wrangler', 'Scenic', 'V40Cc', 'RoverRangeRoverSport', 'A180', 'RomeoGiulietta', 'Sportage', 'Passat', 'Tipo', 'Accord', 'Cla220', 'Ibiza', 'Cls350', 'V40', 'Astra', 'Partner', 'Xe', 'Cooper', 'C3Picasso', 'Note', '525', 'Cx-5', 'Macan', 'Superb', '320', 'Auris', 'Qashqai+2', 'Outlander', 'AlteaXl', 'C3', '9-3', 'Avensis', 'SantaFe', '330', 'Picanto', 'Voyager', 'RoverDefender', 'C200', 'GrandVoyager', 'Alhambra', 'Vivaro', 'Cla200', 'A4', \"Cee'D\", 'B200', 'A5', 'Insignia', 'Bipper', 'Viano', 'Xc60', '316', 'B180', '500X', 'X1', 'Duster', 'Z4', 'Rodius', 'Cc', 'A8', 'Captur', 'X6', 'Captiva', 'Mustang', 'Carens', 'Jumper', 'GolfGti', 'Fortwo', 'GolfVariant', 'Vito', 'Trafic', 'Xsara', 'Fabia', 'GolfSportsvan', 'AutomobilesDs3', 'Citan', '407', 'Xf', 'Espace', '206', 'A200', '2008', 'GrandC-Max', 'Doblo', '308', '500L', '420', '208', 'X4', 'Cayenne', 'C-Elys', 'Ml320', 'Aygo', 'Eos', 'Altea', 'Yaris', 'Juke', 'Micra', '220', 'Antara', 'Slk200', 'Adam', 'Cruze', 'Exeo', '118', '307', '520', 'Scirocco', 'GrandCherokee', 'C3Aircross', 'Combo', '218', '318', '508', 'C220', 'Laguna', 'Daily', 'Megane', 'Tucson', 'Kadjar', 'Toledo', 'Rapid/Spaceback', 'Panda', 'Ix20', 'T5Multivan', 'C4Cactus', 'A6', 'Caddy', 'Transit', 'Fiorino', 'AutomobilesDs4', '207', 'ZafiraTourer', 'Fiesta', 'Montero', 'Ducato', 'Sprinter', 'RoverRangeRoverEvoque', 'Tiguan', 'Renegade', 'CooperD', '3', 'Ecosport', 'Twingo', 'Cr-V', 'Clio', 'GrandVitara', 'Q7'}\n"
     ]
    }
   ],
   "source": [
    "cars1['model'] = cars1['model'].str.replace('C-Elys�e', 'C-Elys')\n",
    "print(set(cars1['model']))"
   ]
  },
  {
   "cell_type": "markdown",
   "metadata": {},
   "source": [
    "Este es el resultado del dataset hasta el momento con los cambios realizados."
   ]
  },
  {
   "cell_type": "code",
   "execution_count": 29,
   "metadata": {
    "scrolled": true
   },
   "outputs": [
    {
     "data": {
      "text/html": [
       "<div>\n",
       "<style scoped>\n",
       "    .dataframe tbody tr th:only-of-type {\n",
       "        vertical-align: middle;\n",
       "    }\n",
       "\n",
       "    .dataframe tbody tr th {\n",
       "        vertical-align: top;\n",
       "    }\n",
       "\n",
       "    .dataframe thead th {\n",
       "        text-align: right;\n",
       "    }\n",
       "</style>\n",
       "<table border=\"1\" class=\"dataframe\">\n",
       "  <thead>\n",
       "    <tr style=\"text-align: right;\">\n",
       "      <th></th>\n",
       "      <th>make</th>\n",
       "      <th>model</th>\n",
       "      <th>power</th>\n",
       "      <th>gear_type</th>\n",
       "      <th>fuel_type</th>\n",
       "      <th>kms</th>\n",
       "      <th>old_years</th>\n",
       "      <th>price</th>\n",
       "    </tr>\n",
       "  </thead>\n",
       "  <tbody>\n",
       "    <tr>\n",
       "      <th>0</th>\n",
       "      <td>Porsche</td>\n",
       "      <td>911</td>\n",
       "      <td>210.0</td>\n",
       "      <td>manual</td>\n",
       "      <td>gasoline</td>\n",
       "      <td>202000.0</td>\n",
       "      <td>20.0</td>\n",
       "      <td>999999</td>\n",
       "    </tr>\n",
       "    <tr>\n",
       "      <th>1</th>\n",
       "      <td>Ford</td>\n",
       "      <td>Mustang</td>\n",
       "      <td>487.0</td>\n",
       "      <td>manual</td>\n",
       "      <td>gasoline</td>\n",
       "      <td>30000.0</td>\n",
       "      <td>4.0</td>\n",
       "      <td>685000</td>\n",
       "    </tr>\n",
       "    <tr>\n",
       "      <th>2</th>\n",
       "      <td>Porsche</td>\n",
       "      <td>911</td>\n",
       "      <td>220.0</td>\n",
       "      <td>manual</td>\n",
       "      <td>gasoline</td>\n",
       "      <td>56300.0</td>\n",
       "      <td>30.0</td>\n",
       "      <td>555555</td>\n",
       "    </tr>\n",
       "    <tr>\n",
       "      <th>3</th>\n",
       "      <td>Porsche</td>\n",
       "      <td>911</td>\n",
       "      <td>368.0</td>\n",
       "      <td>manual</td>\n",
       "      <td>gasoline</td>\n",
       "      <td>2800.0</td>\n",
       "      <td>1.0</td>\n",
       "      <td>470000</td>\n",
       "    </tr>\n",
       "    <tr>\n",
       "      <th>4</th>\n",
       "      <td>Porsche</td>\n",
       "      <td>911</td>\n",
       "      <td>515.0</td>\n",
       "      <td>NaN</td>\n",
       "      <td>gasoline</td>\n",
       "      <td>10.0</td>\n",
       "      <td>0.0</td>\n",
       "      <td>450000</td>\n",
       "    </tr>\n",
       "  </tbody>\n",
       "</table>\n",
       "</div>"
      ],
      "text/plain": [
       "      make    model  power gear_type fuel_type       kms  old_years   price\n",
       "0  Porsche      911  210.0    manual  gasoline  202000.0       20.0  999999\n",
       "1     Ford  Mustang  487.0    manual  gasoline   30000.0        4.0  685000\n",
       "2  Porsche      911  220.0    manual  gasoline   56300.0       30.0  555555\n",
       "3  Porsche      911  368.0    manual  gasoline    2800.0        1.0  470000\n",
       "4  Porsche      911  515.0       NaN  gasoline      10.0        0.0  450000"
      ]
     },
     "execution_count": 29,
     "metadata": {},
     "output_type": "execute_result"
    }
   ],
   "source": [
    "cars1.head()"
   ]
  },
  {
   "cell_type": "markdown",
   "metadata": {},
   "source": [
    "### Agregación de una Api"
   ]
  },
  {
   "cell_type": "markdown",
   "metadata": {},
   "source": [
    "Importo las librerías que voy a usar."
   ]
  },
  {
   "cell_type": "code",
   "execution_count": 30,
   "metadata": {},
   "outputs": [],
   "source": [
    "import json\n",
    "import requests"
   ]
  },
  {
   "cell_type": "markdown",
   "metadata": {},
   "source": [
    "En este punto me encuentro con el mayor problema que he tenido en este proyecto. Me ha resultado difícil encontrar una Api que se ajustara a mi dataset y que le pudiera añadir información. Después de buscar y estar dando muchas vueltas, decido utilizar la siguiente Api: "
   ]
  },
  {
   "cell_type": "code",
   "execution_count": 31,
   "metadata": {
    "scrolled": true
   },
   "outputs": [
    {
     "data": {
      "text/plain": [
       "[{'nome': 'Acura', 'codigo': '1'},\n",
       " {'nome': 'Agrale', 'codigo': '2'},\n",
       " {'nome': 'Alfa Romeo', 'codigo': '3'},\n",
       " {'nome': 'AM Gen', 'codigo': '4'},\n",
       " {'nome': 'Asia Motors', 'codigo': '5'},\n",
       " {'nome': 'ASTON MARTIN', 'codigo': '189'},\n",
       " {'nome': 'Audi', 'codigo': '6'},\n",
       " {'nome': 'Baby', 'codigo': '207'},\n",
       " {'nome': 'BMW', 'codigo': '7'},\n",
       " {'nome': 'BRM', 'codigo': '8'},\n",
       " {'nome': 'Bugre', 'codigo': '123'},\n",
       " {'nome': 'Cadillac', 'codigo': '10'},\n",
       " {'nome': 'CBT Jipe', 'codigo': '11'},\n",
       " {'nome': 'CHANA', 'codigo': '136'},\n",
       " {'nome': 'CHANGAN', 'codigo': '182'},\n",
       " {'nome': 'CHERY', 'codigo': '161'},\n",
       " {'nome': 'Chrysler', 'codigo': '12'},\n",
       " {'nome': 'Citroën', 'codigo': '13'},\n",
       " {'nome': 'Cross Lander', 'codigo': '14'},\n",
       " {'nome': 'Daewoo', 'codigo': '15'},\n",
       " {'nome': 'Daihatsu', 'codigo': '16'},\n",
       " {'nome': 'Dodge', 'codigo': '17'},\n",
       " {'nome': 'EFFA', 'codigo': '147'},\n",
       " {'nome': 'Engesa', 'codigo': '18'},\n",
       " {'nome': 'Envemo', 'codigo': '19'},\n",
       " {'nome': 'Ferrari', 'codigo': '20'},\n",
       " {'nome': 'Fiat', 'codigo': '21'},\n",
       " {'nome': 'Fibravan', 'codigo': '149'},\n",
       " {'nome': 'Ford', 'codigo': '22'},\n",
       " {'nome': 'FOTON', 'codigo': '190'},\n",
       " {'nome': 'Fyber', 'codigo': '170'},\n",
       " {'nome': 'GEELY', 'codigo': '199'},\n",
       " {'nome': 'GM - Chevrolet', 'codigo': '23'},\n",
       " {'nome': 'GREAT WALL', 'codigo': '153'},\n",
       " {'nome': 'Gurgel', 'codigo': '24'},\n",
       " {'nome': 'HAFEI', 'codigo': '152'},\n",
       " {'nome': 'Honda', 'codigo': '25'},\n",
       " {'nome': 'Hyundai', 'codigo': '26'},\n",
       " {'nome': 'Isuzu', 'codigo': '27'},\n",
       " {'nome': 'IVECO', 'codigo': '208'},\n",
       " {'nome': 'JAC', 'codigo': '177'},\n",
       " {'nome': 'Jaguar', 'codigo': '28'},\n",
       " {'nome': 'Jeep', 'codigo': '29'},\n",
       " {'nome': 'JINBEI', 'codigo': '154'},\n",
       " {'nome': 'JPX', 'codigo': '30'},\n",
       " {'nome': 'Kia Motors', 'codigo': '31'},\n",
       " {'nome': 'Lada', 'codigo': '32'},\n",
       " {'nome': 'LAMBORGHINI', 'codigo': '171'},\n",
       " {'nome': 'Land Rover', 'codigo': '33'},\n",
       " {'nome': 'Lexus', 'codigo': '34'},\n",
       " {'nome': 'LIFAN', 'codigo': '168'},\n",
       " {'nome': 'LOBINI', 'codigo': '127'},\n",
       " {'nome': 'Lotus', 'codigo': '35'},\n",
       " {'nome': 'Mahindra', 'codigo': '140'},\n",
       " {'nome': 'Maserati', 'codigo': '36'},\n",
       " {'nome': 'Matra', 'codigo': '37'},\n",
       " {'nome': 'Mazda', 'codigo': '38'},\n",
       " {'nome': 'Mclaren', 'codigo': '211'},\n",
       " {'nome': 'Mercedes-Benz', 'codigo': '39'},\n",
       " {'nome': 'Mercury', 'codigo': '40'},\n",
       " {'nome': 'MG', 'codigo': '167'},\n",
       " {'nome': 'MINI', 'codigo': '156'},\n",
       " {'nome': 'Mitsubishi', 'codigo': '41'},\n",
       " {'nome': 'Miura', 'codigo': '42'},\n",
       " {'nome': 'Nissan', 'codigo': '43'},\n",
       " {'nome': 'Peugeot', 'codigo': '44'},\n",
       " {'nome': 'Plymouth', 'codigo': '45'},\n",
       " {'nome': 'Pontiac', 'codigo': '46'},\n",
       " {'nome': 'Porsche', 'codigo': '47'},\n",
       " {'nome': 'RAM', 'codigo': '185'},\n",
       " {'nome': 'RELY', 'codigo': '186'},\n",
       " {'nome': 'Renault', 'codigo': '48'},\n",
       " {'nome': 'Rolls-Royce', 'codigo': '195'},\n",
       " {'nome': 'Rover', 'codigo': '49'},\n",
       " {'nome': 'Saab', 'codigo': '50'},\n",
       " {'nome': 'Saturn', 'codigo': '51'},\n",
       " {'nome': 'Seat', 'codigo': '52'},\n",
       " {'nome': 'SHINERAY', 'codigo': '183'},\n",
       " {'nome': 'smart', 'codigo': '157'},\n",
       " {'nome': 'SSANGYONG', 'codigo': '125'},\n",
       " {'nome': 'Subaru', 'codigo': '54'},\n",
       " {'nome': 'Suzuki', 'codigo': '55'},\n",
       " {'nome': 'TAC', 'codigo': '165'},\n",
       " {'nome': 'Toyota', 'codigo': '56'},\n",
       " {'nome': 'Troller', 'codigo': '57'},\n",
       " {'nome': 'Volvo', 'codigo': '58'},\n",
       " {'nome': 'VW - VolksWagen', 'codigo': '59'},\n",
       " {'nome': 'Wake', 'codigo': '163'},\n",
       " {'nome': 'Walk', 'codigo': '120'}]"
      ]
     },
     "execution_count": 31,
     "metadata": {},
     "output_type": "execute_result"
    }
   ],
   "source": [
    "response = requests.get('https://parallelum.com.br/fipe/api/v1/carros/marcas')\n",
    "results = response.json()\n",
    "results"
   ]
  },
  {
   "cell_type": "markdown",
   "metadata": {},
   "source": [
    "Esta api tiene una columna en donde a cada marca de coche le añade un código, de tal manera que puedes indentificar cada marca por su código."
   ]
  },
  {
   "cell_type": "code",
   "execution_count": 32,
   "metadata": {},
   "outputs": [
    {
     "data": {
      "text/html": [
       "<div>\n",
       "<style scoped>\n",
       "    .dataframe tbody tr th:only-of-type {\n",
       "        vertical-align: middle;\n",
       "    }\n",
       "\n",
       "    .dataframe tbody tr th {\n",
       "        vertical-align: top;\n",
       "    }\n",
       "\n",
       "    .dataframe thead th {\n",
       "        text-align: right;\n",
       "    }\n",
       "</style>\n",
       "<table border=\"1\" class=\"dataframe\">\n",
       "  <thead>\n",
       "    <tr style=\"text-align: right;\">\n",
       "      <th></th>\n",
       "      <th>codigo</th>\n",
       "      <th>nome</th>\n",
       "    </tr>\n",
       "  </thead>\n",
       "  <tbody>\n",
       "    <tr>\n",
       "      <th>0</th>\n",
       "      <td>1</td>\n",
       "      <td>Acura</td>\n",
       "    </tr>\n",
       "    <tr>\n",
       "      <th>1</th>\n",
       "      <td>2</td>\n",
       "      <td>Agrale</td>\n",
       "    </tr>\n",
       "    <tr>\n",
       "      <th>2</th>\n",
       "      <td>3</td>\n",
       "      <td>Alfa Romeo</td>\n",
       "    </tr>\n",
       "    <tr>\n",
       "      <th>3</th>\n",
       "      <td>4</td>\n",
       "      <td>AM Gen</td>\n",
       "    </tr>\n",
       "    <tr>\n",
       "      <th>4</th>\n",
       "      <td>5</td>\n",
       "      <td>Asia Motors</td>\n",
       "    </tr>\n",
       "  </tbody>\n",
       "</table>\n",
       "</div>"
      ],
      "text/plain": [
       "  codigo         nome\n",
       "0      1        Acura\n",
       "1      2       Agrale\n",
       "2      3   Alfa Romeo\n",
       "3      4       AM Gen\n",
       "4      5  Asia Motors"
      ]
     },
     "execution_count": 32,
     "metadata": {},
     "output_type": "execute_result"
    }
   ],
   "source": [
    "datacars = pd.DataFrame(results)\n",
    "datacars.head()"
   ]
  },
  {
   "cell_type": "markdown",
   "metadata": {},
   "source": [
    "Cambio el nombre de la columna 'nome' por el de 'make', ya que luego para hacer el merge de ambos dataset me va a ser necesario que se llamen iguales ambas columnas."
   ]
  },
  {
   "cell_type": "code",
   "execution_count": 33,
   "metadata": {},
   "outputs": [
    {
     "data": {
      "text/html": [
       "<div>\n",
       "<style scoped>\n",
       "    .dataframe tbody tr th:only-of-type {\n",
       "        vertical-align: middle;\n",
       "    }\n",
       "\n",
       "    .dataframe tbody tr th {\n",
       "        vertical-align: top;\n",
       "    }\n",
       "\n",
       "    .dataframe thead th {\n",
       "        text-align: right;\n",
       "    }\n",
       "</style>\n",
       "<table border=\"1\" class=\"dataframe\">\n",
       "  <thead>\n",
       "    <tr style=\"text-align: right;\">\n",
       "      <th></th>\n",
       "      <th>codigo</th>\n",
       "      <th>make</th>\n",
       "    </tr>\n",
       "  </thead>\n",
       "  <tbody>\n",
       "    <tr>\n",
       "      <th>0</th>\n",
       "      <td>1</td>\n",
       "      <td>Acura</td>\n",
       "    </tr>\n",
       "    <tr>\n",
       "      <th>1</th>\n",
       "      <td>2</td>\n",
       "      <td>Agrale</td>\n",
       "    </tr>\n",
       "    <tr>\n",
       "      <th>2</th>\n",
       "      <td>3</td>\n",
       "      <td>Alfa</td>\n",
       "    </tr>\n",
       "    <tr>\n",
       "      <th>3</th>\n",
       "      <td>4</td>\n",
       "      <td>AM Gen</td>\n",
       "    </tr>\n",
       "    <tr>\n",
       "      <th>4</th>\n",
       "      <td>5</td>\n",
       "      <td>Asia Motors</td>\n",
       "    </tr>\n",
       "  </tbody>\n",
       "</table>\n",
       "</div>"
      ],
      "text/plain": [
       "  codigo         make\n",
       "0      1        Acura\n",
       "1      2       Agrale\n",
       "2      3         Alfa\n",
       "3      4       AM Gen\n",
       "4      5  Asia Motors"
      ]
     },
     "execution_count": 33,
     "metadata": {},
     "output_type": "execute_result"
    }
   ],
   "source": [
    "datacars.rename(columns={'nome': 'make'}, inplace=True)\n",
    "datacars['make'] = datacars['make'].str.replace('Alfa Romeo', 'Alfa')\n",
    "datacars.head()"
   ]
  },
  {
   "cell_type": "markdown",
   "metadata": {},
   "source": [
    "Uno ambos datasets, para ellos utilizo un .merge y las unifico por la columna 'make'. De esta forma consigo que a cada marca de coche que tenía en el primer dataset se le añada su código correspondiente proveniente del segundo dataset."
   ]
  },
  {
   "cell_type": "code",
   "execution_count": 34,
   "metadata": {},
   "outputs": [
    {
     "data": {
      "text/html": [
       "<div>\n",
       "<style scoped>\n",
       "    .dataframe tbody tr th:only-of-type {\n",
       "        vertical-align: middle;\n",
       "    }\n",
       "\n",
       "    .dataframe tbody tr th {\n",
       "        vertical-align: top;\n",
       "    }\n",
       "\n",
       "    .dataframe thead th {\n",
       "        text-align: right;\n",
       "    }\n",
       "</style>\n",
       "<table border=\"1\" class=\"dataframe\">\n",
       "  <thead>\n",
       "    <tr style=\"text-align: right;\">\n",
       "      <th></th>\n",
       "      <th>make</th>\n",
       "      <th>model</th>\n",
       "      <th>power</th>\n",
       "      <th>gear_type</th>\n",
       "      <th>fuel_type</th>\n",
       "      <th>kms</th>\n",
       "      <th>old_years</th>\n",
       "      <th>price</th>\n",
       "      <th>codigo</th>\n",
       "    </tr>\n",
       "  </thead>\n",
       "  <tbody>\n",
       "    <tr>\n",
       "      <th>0</th>\n",
       "      <td>Porsche</td>\n",
       "      <td>911</td>\n",
       "      <td>210.0</td>\n",
       "      <td>manual</td>\n",
       "      <td>gasoline</td>\n",
       "      <td>202000.0</td>\n",
       "      <td>20.0</td>\n",
       "      <td>999999</td>\n",
       "      <td>47</td>\n",
       "    </tr>\n",
       "    <tr>\n",
       "      <th>1</th>\n",
       "      <td>Ford</td>\n",
       "      <td>Mustang</td>\n",
       "      <td>487.0</td>\n",
       "      <td>manual</td>\n",
       "      <td>gasoline</td>\n",
       "      <td>30000.0</td>\n",
       "      <td>4.0</td>\n",
       "      <td>685000</td>\n",
       "      <td>22</td>\n",
       "    </tr>\n",
       "    <tr>\n",
       "      <th>2</th>\n",
       "      <td>Porsche</td>\n",
       "      <td>911</td>\n",
       "      <td>220.0</td>\n",
       "      <td>manual</td>\n",
       "      <td>gasoline</td>\n",
       "      <td>56300.0</td>\n",
       "      <td>30.0</td>\n",
       "      <td>555555</td>\n",
       "      <td>47</td>\n",
       "    </tr>\n",
       "    <tr>\n",
       "      <th>3</th>\n",
       "      <td>Porsche</td>\n",
       "      <td>911</td>\n",
       "      <td>368.0</td>\n",
       "      <td>manual</td>\n",
       "      <td>gasoline</td>\n",
       "      <td>2800.0</td>\n",
       "      <td>1.0</td>\n",
       "      <td>470000</td>\n",
       "      <td>47</td>\n",
       "    </tr>\n",
       "    <tr>\n",
       "      <th>4</th>\n",
       "      <td>Porsche</td>\n",
       "      <td>911</td>\n",
       "      <td>515.0</td>\n",
       "      <td>NaN</td>\n",
       "      <td>gasoline</td>\n",
       "      <td>10.0</td>\n",
       "      <td>0.0</td>\n",
       "      <td>450000</td>\n",
       "      <td>47</td>\n",
       "    </tr>\n",
       "  </tbody>\n",
       "</table>\n",
       "</div>"
      ],
      "text/plain": [
       "      make    model  power gear_type fuel_type       kms  old_years   price  \\\n",
       "0  Porsche      911  210.0    manual  gasoline  202000.0       20.0  999999   \n",
       "1     Ford  Mustang  487.0    manual  gasoline   30000.0        4.0  685000   \n",
       "2  Porsche      911  220.0    manual  gasoline   56300.0       30.0  555555   \n",
       "3  Porsche      911  368.0    manual  gasoline    2800.0        1.0  470000   \n",
       "4  Porsche      911  515.0       NaN  gasoline      10.0        0.0  450000   \n",
       "\n",
       "  codigo  \n",
       "0     47  \n",
       "1     22  \n",
       "2     47  \n",
       "3     47  \n",
       "4     47  "
      ]
     },
     "execution_count": 34,
     "metadata": {},
     "output_type": "execute_result"
    }
   ],
   "source": [
    "s1 = pd.merge(cars1,datacars,how='left', on=['make'])\n",
    "s1.head()"
   ]
  },
  {
   "cell_type": "markdown",
   "metadata": {},
   "source": [
    "Una vez creada esta tabla, hago una pivot_table a través de 'make', 'codigo' y 'model', en donde a cada 'model' le indico los kilómetros de media, la antigüedad en años de media, la potencia media y el precio medio que tienen todos los modelos de coche de cada marca y código."
   ]
  },
  {
   "cell_type": "code",
   "execution_count": 35,
   "metadata": {
    "scrolled": false
   },
   "outputs": [
    {
     "data": {
      "text/html": [
       "<div>\n",
       "<style scoped>\n",
       "    .dataframe tbody tr th:only-of-type {\n",
       "        vertical-align: middle;\n",
       "    }\n",
       "\n",
       "    .dataframe tbody tr th {\n",
       "        vertical-align: top;\n",
       "    }\n",
       "\n",
       "    .dataframe thead tr th {\n",
       "        text-align: left;\n",
       "    }\n",
       "\n",
       "    .dataframe thead tr:last-of-type th {\n",
       "        text-align: right;\n",
       "    }\n",
       "</style>\n",
       "<table border=\"1\" class=\"dataframe\">\n",
       "  <thead>\n",
       "    <tr>\n",
       "      <th></th>\n",
       "      <th></th>\n",
       "      <th></th>\n",
       "      <th>kms</th>\n",
       "      <th>model</th>\n",
       "      <th>old_years</th>\n",
       "      <th>power</th>\n",
       "      <th>price</th>\n",
       "    </tr>\n",
       "    <tr>\n",
       "      <th></th>\n",
       "      <th></th>\n",
       "      <th></th>\n",
       "      <th>mean</th>\n",
       "      <th>len</th>\n",
       "      <th>mean</th>\n",
       "      <th>mean</th>\n",
       "      <th>mean</th>\n",
       "    </tr>\n",
       "    <tr>\n",
       "      <th>make</th>\n",
       "      <th>codigo</th>\n",
       "      <th>model</th>\n",
       "      <th></th>\n",
       "      <th></th>\n",
       "      <th></th>\n",
       "      <th></th>\n",
       "      <th></th>\n",
       "    </tr>\n",
       "  </thead>\n",
       "  <tbody>\n",
       "    <tr>\n",
       "      <th rowspan=\"2\" valign=\"top\">Alfa</th>\n",
       "      <th rowspan=\"2\" valign=\"top\">3</th>\n",
       "      <th>RomeoGiulietta</th>\n",
       "      <td>55684.0</td>\n",
       "      <td>291</td>\n",
       "      <td>3.0</td>\n",
       "      <td>92.0</td>\n",
       "      <td>13943.0</td>\n",
       "    </tr>\n",
       "    <tr>\n",
       "      <th>RomeoMito</th>\n",
       "      <td>67039.0</td>\n",
       "      <td>132</td>\n",
       "      <td>6.0</td>\n",
       "      <td>76.0</td>\n",
       "      <td>9185.0</td>\n",
       "    </tr>\n",
       "    <tr>\n",
       "      <th rowspan=\"3\" valign=\"top\">Audi</th>\n",
       "      <th rowspan=\"3\" valign=\"top\">6</th>\n",
       "      <th>A1</th>\n",
       "      <td>37728.0</td>\n",
       "      <td>968</td>\n",
       "      <td>3.0</td>\n",
       "      <td>75.0</td>\n",
       "      <td>15536.0</td>\n",
       "    </tr>\n",
       "    <tr>\n",
       "      <th>A3</th>\n",
       "      <td>87223.0</td>\n",
       "      <td>2091</td>\n",
       "      <td>5.0</td>\n",
       "      <td>92.0</td>\n",
       "      <td>16259.0</td>\n",
       "    </tr>\n",
       "    <tr>\n",
       "      <th>A4</th>\n",
       "      <td>102455.0</td>\n",
       "      <td>2115</td>\n",
       "      <td>6.0</td>\n",
       "      <td>113.0</td>\n",
       "      <td>18778.0</td>\n",
       "    </tr>\n",
       "  </tbody>\n",
       "</table>\n",
       "</div>"
      ],
      "text/plain": [
       "                                 kms model old_years  power    price\n",
       "                                mean   len      mean   mean     mean\n",
       "make codigo model                                                   \n",
       "Alfa 3      RomeoGiulietta   55684.0   291       3.0   92.0  13943.0\n",
       "            RomeoMito        67039.0   132       6.0   76.0   9185.0\n",
       "Audi 6      A1               37728.0   968       3.0   75.0  15536.0\n",
       "            A3               87223.0  2091       5.0   92.0  16259.0\n",
       "            A4              102455.0  2115       6.0  113.0  18778.0"
      ]
     },
     "execution_count": 35,
     "metadata": {},
     "output_type": "execute_result"
    }
   ],
   "source": [
    "table = pd.pivot_table(s1, index=['make','codigo','model'],\n",
    "                       aggfunc={'model':[len],'power': np.mean, 'kms':np.mean, 'old_years':np.mean,\n",
    "                                'price':np.mean}).round()\n",
    "table.head()"
   ]
  },
  {
   "cell_type": "markdown",
   "metadata": {},
   "source": [
    "Reordeno las columnas de una manera que me gusta más y que creo que tiene mayor sentido a la hora de leerlo."
   ]
  },
  {
   "cell_type": "code",
   "execution_count": 36,
   "metadata": {
    "scrolled": true
   },
   "outputs": [
    {
     "data": {
      "text/html": [
       "<div>\n",
       "<style scoped>\n",
       "    .dataframe tbody tr th:only-of-type {\n",
       "        vertical-align: middle;\n",
       "    }\n",
       "\n",
       "    .dataframe tbody tr th {\n",
       "        vertical-align: top;\n",
       "    }\n",
       "\n",
       "    .dataframe thead tr th {\n",
       "        text-align: left;\n",
       "    }\n",
       "\n",
       "    .dataframe thead tr:last-of-type th {\n",
       "        text-align: right;\n",
       "    }\n",
       "</style>\n",
       "<table border=\"1\" class=\"dataframe\">\n",
       "  <thead>\n",
       "    <tr>\n",
       "      <th></th>\n",
       "      <th></th>\n",
       "      <th></th>\n",
       "      <th>model</th>\n",
       "      <th>kms</th>\n",
       "      <th>power</th>\n",
       "      <th>old_years</th>\n",
       "      <th>price</th>\n",
       "    </tr>\n",
       "    <tr>\n",
       "      <th></th>\n",
       "      <th></th>\n",
       "      <th></th>\n",
       "      <th>len</th>\n",
       "      <th>mean</th>\n",
       "      <th>mean</th>\n",
       "      <th>mean</th>\n",
       "      <th>mean</th>\n",
       "    </tr>\n",
       "    <tr>\n",
       "      <th>make</th>\n",
       "      <th>codigo</th>\n",
       "      <th>model</th>\n",
       "      <th></th>\n",
       "      <th></th>\n",
       "      <th></th>\n",
       "      <th></th>\n",
       "      <th></th>\n",
       "    </tr>\n",
       "  </thead>\n",
       "  <tbody>\n",
       "    <tr>\n",
       "      <th rowspan=\"2\" valign=\"top\">Alfa</th>\n",
       "      <th rowspan=\"2\" valign=\"top\">3</th>\n",
       "      <th>RomeoGiulietta</th>\n",
       "      <td>291</td>\n",
       "      <td>55684.0</td>\n",
       "      <td>92.0</td>\n",
       "      <td>3.0</td>\n",
       "      <td>13943.0</td>\n",
       "    </tr>\n",
       "    <tr>\n",
       "      <th>RomeoMito</th>\n",
       "      <td>132</td>\n",
       "      <td>67039.0</td>\n",
       "      <td>76.0</td>\n",
       "      <td>6.0</td>\n",
       "      <td>9185.0</td>\n",
       "    </tr>\n",
       "    <tr>\n",
       "      <th rowspan=\"3\" valign=\"top\">Audi</th>\n",
       "      <th rowspan=\"3\" valign=\"top\">6</th>\n",
       "      <th>A1</th>\n",
       "      <td>968</td>\n",
       "      <td>37728.0</td>\n",
       "      <td>75.0</td>\n",
       "      <td>3.0</td>\n",
       "      <td>15536.0</td>\n",
       "    </tr>\n",
       "    <tr>\n",
       "      <th>A3</th>\n",
       "      <td>2091</td>\n",
       "      <td>87223.0</td>\n",
       "      <td>92.0</td>\n",
       "      <td>5.0</td>\n",
       "      <td>16259.0</td>\n",
       "    </tr>\n",
       "    <tr>\n",
       "      <th>A4</th>\n",
       "      <td>2115</td>\n",
       "      <td>102455.0</td>\n",
       "      <td>113.0</td>\n",
       "      <td>6.0</td>\n",
       "      <td>18778.0</td>\n",
       "    </tr>\n",
       "  </tbody>\n",
       "</table>\n",
       "</div>"
      ],
      "text/plain": [
       "                           model       kms  power old_years    price\n",
       "                             len      mean   mean      mean     mean\n",
       "make codigo model                                                   \n",
       "Alfa 3      RomeoGiulietta   291   55684.0   92.0       3.0  13943.0\n",
       "            RomeoMito        132   67039.0   76.0       6.0   9185.0\n",
       "Audi 6      A1               968   37728.0   75.0       3.0  15536.0\n",
       "            A3              2091   87223.0   92.0       5.0  16259.0\n",
       "            A4              2115  102455.0  113.0       6.0  18778.0"
      ]
     },
     "execution_count": 36,
     "metadata": {},
     "output_type": "execute_result"
    }
   ],
   "source": [
    "table1 = table[['model','kms','power','old_years','price']]\n",
    "table1.head()"
   ]
  },
  {
   "cell_type": "markdown",
   "metadata": {},
   "source": [
    "Esta tabla es el resultado final de mi análisis. Viéndola entera, podemos sacar un resumen claro y detallado de las marcas y modelos de coches que están en el mercado de segunda mano en España. Indico el número de coches que hay de cada modelo, donde podemos ver cuales abundan más o cuales son más exclusivos, y de cada modelo podemos ver las medias de los datos de los kilómetros, la potencia, la antigüedad y el precio de cada modelo.\n",
    "\n",
    "En el archivo Pipeline_Rafael_Eguren.py que entrego junto con este jupyter notebook, he creado un pipeline con todas las funciones utilizadas y de donde podemos extraer este mismo resultado."
   ]
  },
  {
   "cell_type": "code",
   "execution_count": null,
   "metadata": {},
   "outputs": [],
   "source": []
  }
 ],
 "metadata": {
  "kernelspec": {
   "display_name": "Python 3",
   "language": "python",
   "name": "python3"
  },
  "language_info": {
   "codemirror_mode": {
    "name": "ipython",
    "version": 3
   },
   "file_extension": ".py",
   "mimetype": "text/x-python",
   "name": "python",
   "nbconvert_exporter": "python",
   "pygments_lexer": "ipython3",
   "version": "3.7.0"
  }
 },
 "nbformat": 4,
 "nbformat_minor": 2
}
