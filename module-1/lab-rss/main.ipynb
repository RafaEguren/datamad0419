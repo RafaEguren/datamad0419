{
 "cells": [
  {
   "cell_type": "markdown",
   "metadata": {},
   "source": [
    "# Working with RSS Feeds Lab\n",
    "\n",
    "Complete the following set of exercises to solidify your knowledge of parsing RSS feeds and extracting information from them."
   ]
  },
  {
   "cell_type": "code",
   "execution_count": 1,
   "metadata": {},
   "outputs": [],
   "source": [
    "import feedparser"
   ]
  },
  {
   "cell_type": "markdown",
   "metadata": {},
   "source": [
    "### 1. Use feedparser to parse the following RSS feed URL."
   ]
  },
  {
   "cell_type": "code",
   "execution_count": 2,
   "metadata": {},
   "outputs": [],
   "source": [
    "url = 'http://feeds.feedburner.com/oreilly/radar/atom'"
   ]
  },
  {
   "cell_type": "code",
   "execution_count": 5,
   "metadata": {},
   "outputs": [],
   "source": [
    "reddit = feedparser.parse('http://feeds.feedburner.com/oreilly/radar/atom')"
   ]
  },
  {
   "cell_type": "markdown",
   "metadata": {},
   "source": [
    "### 2. Obtain a list of components (keys) that are available for this feed."
   ]
  },
  {
   "cell_type": "code",
   "execution_count": 17,
   "metadata": {},
   "outputs": [
    {
     "data": {
      "text/plain": [
       "dict_keys(['headers', 'encoding', 'etag', 'bozo', 'namespaces', 'version', 'entries', 'updated_parsed', 'updated', 'href', 'feed', 'status'])"
      ]
     },
     "execution_count": 17,
     "metadata": {},
     "output_type": "execute_result"
    }
   ],
   "source": [
    "reddit.keys()"
   ]
  },
  {
   "cell_type": "markdown",
   "metadata": {},
   "source": [
    "### 3. Obtain a list of components (keys) that are available for the *feed* component of this RSS feed."
   ]
  },
  {
   "cell_type": "code",
   "execution_count": 20,
   "metadata": {},
   "outputs": [
    {
     "data": {
      "text/plain": [
       "dict_keys(['title', 'geo_lat', 'author_detail', 'author', 'feedburner_feedburnerhostname', 'guidislink', 'subtitle', 'links', 'authors', 'subtitle_detail', 'feedburner_info', 'title_detail', 'id', 'updated_parsed', 'feedburner_emailserviceid', 'updated', 'link', 'geo_long'])"
      ]
     },
     "execution_count": 20,
     "metadata": {},
     "output_type": "execute_result"
    }
   ],
   "source": [
    "reddit.feed.keys()"
   ]
  },
  {
   "cell_type": "markdown",
   "metadata": {},
   "source": [
    "### 4. Extract and print the feed title, subtitle, author, and link."
   ]
  },
  {
   "cell_type": "code",
   "execution_count": 27,
   "metadata": {},
   "outputs": [
    {
     "name": "stdout",
     "output_type": "stream",
     "text": [
      "All - O'Reilly Media\n",
      "All of our Ideas and Learning material from all of our topics.\n",
      "O'Reilly Media\n",
      "https://www.oreilly.com\n"
     ]
    }
   ],
   "source": [
    "print(reddit.feed.title)\n",
    "print(reddit.feed.subtitle)\n",
    "print(reddit.feed.author)\n",
    "print(reddit.feed.link)"
   ]
  },
  {
   "cell_type": "markdown",
   "metadata": {},
   "source": [
    "### 5. Count the number of entries that are contained in this RSS feed."
   ]
  },
  {
   "cell_type": "code",
   "execution_count": 28,
   "metadata": {},
   "outputs": [
    {
     "data": {
      "text/plain": [
       "60"
      ]
     },
     "execution_count": 28,
     "metadata": {},
     "output_type": "execute_result"
    }
   ],
   "source": [
    "len(reddit.entries)"
   ]
  },
  {
   "cell_type": "markdown",
   "metadata": {},
   "source": [
    "### 6. Obtain a list of components (keys) available for an entry.\n",
    "\n",
    "*Hint: Remember to index first before requesting the keys*"
   ]
  },
  {
   "cell_type": "code",
   "execution_count": 36,
   "metadata": {},
   "outputs": [
    {
     "data": {
      "text/plain": [
       "dict_keys(['title', 'author_detail', 'feedburner_origlink', 'author', 'guidislink', 'authors', 'links', 'content', 'title_detail', 'id', 'updated_parsed', 'updated', 'link', 'summary'])"
      ]
     },
     "execution_count": 36,
     "metadata": {},
     "output_type": "execute_result"
    }
   ],
   "source": [
    "reddit.entries[0].keys()"
   ]
  },
  {
   "cell_type": "markdown",
   "metadata": {},
   "source": [
    "### 7. Extract a list of entry titles."
   ]
  },
  {
   "cell_type": "code",
   "execution_count": 40,
   "metadata": {
    "scrolled": true
   },
   "outputs": [
    {
     "name": "stdout",
     "output_type": "stream",
     "text": [
      "['Why companies are in need of data lineage solutions', 'Stablecoins: Solving the cryptocurrency volatility crisis', 'Four short links: 25 April 2019', 'Four short links: 24 April 2019', 'Four short links: 23 April 2019', 'Four short links: 22 April 2019', 'Four short links: 19 April 2019', 'Computational propaganda', 'Decoding the human genome with deep learning', 'Automation of AI: Accelerating the AI revolution', 'Simple, scalable, and sustainable: A methodical approach to AI adoption', 'Software 2.0 and Snorkel', 'Applied machine learning at Facebook', 'Artificial intelligence: The “refinery” for data', 'Making real-world distributed deep learning easy with Nauta', 'Four short links: 18 April 2019', 'Toward ethical AI: Inclusivity as a messy, difficult, but promising answer', 'Fast, flexible, and functional: 4 real-world AI deployments at enterprise scale', 'Machine learning for personalization', 'Automated ML: A journey from CRISPR.ML to Azure ML', 'Checking in on AI tools', 'How AI adaptive technology can upgrade education', \"Highlights from the O'Reilly Artificial Intelligence Conference in New York 2019\", 'AI and the robotics revolution', 'Is AI human-ready?', 'Data fueling AI of the future', 'Four short links: 17 April 2019', 'Four short links: 16 April 2019', 'Four short links: 15 April 2019', 'Strata San Francisco, 2019: Opportunities and Risks', 'Four short links: 12 April 2019', 'What data scientists and data engineers can do with current generation serverless technologies', 'Four short links: 11 April 2019', 'Four short links: 10 April 2019', 'Four short links: 9 April 2019', 'Why a data scientist is not a data engineer', 'Four short links: 8 April 2019', 'Four short links: 5 April 2019', 'Four short links: 4 April 2019', '150+ live online training courses opened for April and May', 'Four short links: 3 April 2019', 'De-biasing language', 'Specialized tools for machine learning development and model governance are becoming essential', 'Four short links: 2 April 2019', 'Four short links: 1 April 2019', 'Four short links: 29 March 2019', 'Highlights from the Strata Data Conference in San Francisco 2019', 'Chatting with machines: Strange things 60 billion bot logs say about human nature', 'The enterprise data cloud', 'Winners of the Strata Data Awards 2019', 'Data warehousing is not a use case', 'Hacking the vote: The neuropolitical universe', 'Forecasting uncertainty at Airbnb', 'Likewar: How social media is changing the world and how the world is changing social media.', 'It’s time for data scientists to collaborate with researchers in other disciplines', 'Four short links: 28 March 2019', 'Streamlining your data assets: A strategy for the journey to AI', 'The journey to the data-driven enterprise from the edge to AI', 'Scoring your business in the AI matrix', 'AI and cryptography: Challenges and opportunities']\n"
     ]
    }
   ],
   "source": [
    "titles = [reddit.entries[i].title for i in range(len(reddit.entries))]\n",
    "print(titles)"
   ]
  },
  {
   "cell_type": "markdown",
   "metadata": {},
   "source": [
    "### 8. Calculate the percentage of \"Four short links\" entry titles."
   ]
  },
  {
   "cell_type": "code",
   "execution_count": 57,
   "metadata": {},
   "outputs": [
    {
     "name": "stdout",
     "output_type": "stream",
     "text": [
      "35.0 %\n"
     ]
    }
   ],
   "source": [
    "import re\n",
    "total = len(titles)\n",
    "titlesStr = ''.join(titles)\n",
    "#titlesStr\n",
    "pattern = 'Four\\sshort\\slinks'  \n",
    "text = titlesStr\n",
    "fsl = re.findall(pattern, text)\n",
    "totalfour = len(fsl)\n",
    "percent = (totalfour/total)*100\n",
    "print(percent,\"%\")"
   ]
  },
  {
   "cell_type": "markdown",
   "metadata": {},
   "source": [
    "### 9. Create a Pandas data frame from the feed's entries."
   ]
  },
  {
   "cell_type": "code",
   "execution_count": 37,
   "metadata": {},
   "outputs": [],
   "source": [
    "import pandas as pd"
   ]
  },
  {
   "cell_type": "code",
   "execution_count": 39,
   "metadata": {},
   "outputs": [
    {
     "data": {
      "text/html": [
       "<div>\n",
       "<style scoped>\n",
       "    .dataframe tbody tr th:only-of-type {\n",
       "        vertical-align: middle;\n",
       "    }\n",
       "\n",
       "    .dataframe tbody tr th {\n",
       "        vertical-align: top;\n",
       "    }\n",
       "\n",
       "    .dataframe thead th {\n",
       "        text-align: right;\n",
       "    }\n",
       "</style>\n",
       "<table border=\"1\" class=\"dataframe\">\n",
       "  <thead>\n",
       "    <tr style=\"text-align: right;\">\n",
       "      <th></th>\n",
       "      <th>author</th>\n",
       "      <th>author_detail</th>\n",
       "      <th>authors</th>\n",
       "      <th>content</th>\n",
       "      <th>feedburner_origlink</th>\n",
       "      <th>guidislink</th>\n",
       "      <th>id</th>\n",
       "      <th>link</th>\n",
       "      <th>links</th>\n",
       "      <th>summary</th>\n",
       "      <th>title</th>\n",
       "      <th>title_detail</th>\n",
       "      <th>updated</th>\n",
       "      <th>updated_parsed</th>\n",
       "    </tr>\n",
       "  </thead>\n",
       "  <tbody>\n",
       "    <tr>\n",
       "      <th>0</th>\n",
       "      <td>Ben Lorica</td>\n",
       "      <td>{'name': 'Ben Lorica'}</td>\n",
       "      <td>[{'name': 'Ben Lorica'}]</td>\n",
       "      <td>[{'language': None, 'value': '&lt;p&gt;&lt;img src=\"htt...</td>\n",
       "      <td>https://www.oreilly.com/ideas/why-companies-ar...</td>\n",
       "      <td>True</td>\n",
       "      <td>tag:www.oreilly.com,2019-04-25:/ideas/why-comp...</td>\n",
       "      <td>http://feedproxy.google.com/~r/oreilly/radar/a...</td>\n",
       "      <td>[{'rel': 'alternate', 'href': 'http://feedprox...</td>\n",
       "      <td>&lt;p&gt;&lt;img src=\"https://d3ucjech6zwjp8.cloudfront...</td>\n",
       "      <td>Why companies are in need of data lineage solu...</td>\n",
       "      <td>{'language': None, 'value': 'Why companies are...</td>\n",
       "      <td>2019-04-25T11:15:00Z</td>\n",
       "      <td>(2019, 4, 25, 11, 15, 0, 3, 115, 0)</td>\n",
       "    </tr>\n",
       "    <tr>\n",
       "      <th>1</th>\n",
       "      <td>Wayne Chang, Gregory Rocco, Jacob Blish</td>\n",
       "      <td>{'name': 'Wayne Chang, Gregory Rocco, Jacob Bl...</td>\n",
       "      <td>[{'name': 'Wayne Chang, Gregory Rocco, Jacob B...</td>\n",
       "      <td>[{'language': None, 'value': '&lt;p&gt;&lt;img src=\"htt...</td>\n",
       "      <td>https://www.oreilly.com/ideas/stablecoins-solv...</td>\n",
       "      <td>True</td>\n",
       "      <td>tag:www.oreilly.com,2019-04-25:/ideas/stableco...</td>\n",
       "      <td>http://feedproxy.google.com/~r/oreilly/radar/a...</td>\n",
       "      <td>[{'rel': 'alternate', 'href': 'http://feedprox...</td>\n",
       "      <td>&lt;p&gt;&lt;img src=\"https://d3ucjech6zwjp8.cloudfront...</td>\n",
       "      <td>Stablecoins: Solving the cryptocurrency volati...</td>\n",
       "      <td>{'language': None, 'value': 'Stablecoins: Solv...</td>\n",
       "      <td>2019-04-25T11:00:00Z</td>\n",
       "      <td>(2019, 4, 25, 11, 0, 0, 3, 115, 0)</td>\n",
       "    </tr>\n",
       "    <tr>\n",
       "      <th>2</th>\n",
       "      <td>Nat Torkington</td>\n",
       "      <td>{'name': 'Nat Torkington'}</td>\n",
       "      <td>[{'name': 'Nat Torkington'}]</td>\n",
       "      <td>[{'language': None, 'value': '&lt;p&gt;&lt;em&gt;Values Ri...</td>\n",
       "      <td>https://www.oreilly.com/ideas/four-short-links...</td>\n",
       "      <td>True</td>\n",
       "      <td>tag:www.oreilly.com,2019-04-25:/ideas/four-sho...</td>\n",
       "      <td>http://feedproxy.google.com/~r/oreilly/radar/a...</td>\n",
       "      <td>[{'rel': 'alternate', 'href': 'http://feedprox...</td>\n",
       "      <td>&lt;p&gt;&lt;em&gt;Values Risk, Brain Interface, Hacking S...</td>\n",
       "      <td>Four short links: 25 April 2019</td>\n",
       "      <td>{'language': None, 'value': 'Four short links:...</td>\n",
       "      <td>2019-04-25T10:50:00Z</td>\n",
       "      <td>(2019, 4, 25, 10, 50, 0, 3, 115, 0)</td>\n",
       "    </tr>\n",
       "  </tbody>\n",
       "</table>\n",
       "</div>"
      ],
      "text/plain": [
       "                                    author  \\\n",
       "0                               Ben Lorica   \n",
       "1  Wayne Chang, Gregory Rocco, Jacob Blish   \n",
       "2                           Nat Torkington   \n",
       "\n",
       "                                       author_detail  \\\n",
       "0                             {'name': 'Ben Lorica'}   \n",
       "1  {'name': 'Wayne Chang, Gregory Rocco, Jacob Bl...   \n",
       "2                         {'name': 'Nat Torkington'}   \n",
       "\n",
       "                                             authors  \\\n",
       "0                           [{'name': 'Ben Lorica'}]   \n",
       "1  [{'name': 'Wayne Chang, Gregory Rocco, Jacob B...   \n",
       "2                       [{'name': 'Nat Torkington'}]   \n",
       "\n",
       "                                             content  \\\n",
       "0  [{'language': None, 'value': '<p><img src=\"htt...   \n",
       "1  [{'language': None, 'value': '<p><img src=\"htt...   \n",
       "2  [{'language': None, 'value': '<p><em>Values Ri...   \n",
       "\n",
       "                                 feedburner_origlink  guidislink  \\\n",
       "0  https://www.oreilly.com/ideas/why-companies-ar...        True   \n",
       "1  https://www.oreilly.com/ideas/stablecoins-solv...        True   \n",
       "2  https://www.oreilly.com/ideas/four-short-links...        True   \n",
       "\n",
       "                                                  id  \\\n",
       "0  tag:www.oreilly.com,2019-04-25:/ideas/why-comp...   \n",
       "1  tag:www.oreilly.com,2019-04-25:/ideas/stableco...   \n",
       "2  tag:www.oreilly.com,2019-04-25:/ideas/four-sho...   \n",
       "\n",
       "                                                link  \\\n",
       "0  http://feedproxy.google.com/~r/oreilly/radar/a...   \n",
       "1  http://feedproxy.google.com/~r/oreilly/radar/a...   \n",
       "2  http://feedproxy.google.com/~r/oreilly/radar/a...   \n",
       "\n",
       "                                               links  \\\n",
       "0  [{'rel': 'alternate', 'href': 'http://feedprox...   \n",
       "1  [{'rel': 'alternate', 'href': 'http://feedprox...   \n",
       "2  [{'rel': 'alternate', 'href': 'http://feedprox...   \n",
       "\n",
       "                                             summary  \\\n",
       "0  <p><img src=\"https://d3ucjech6zwjp8.cloudfront...   \n",
       "1  <p><img src=\"https://d3ucjech6zwjp8.cloudfront...   \n",
       "2  <p><em>Values Risk, Brain Interface, Hacking S...   \n",
       "\n",
       "                                               title  \\\n",
       "0  Why companies are in need of data lineage solu...   \n",
       "1  Stablecoins: Solving the cryptocurrency volati...   \n",
       "2                    Four short links: 25 April 2019   \n",
       "\n",
       "                                        title_detail               updated  \\\n",
       "0  {'language': None, 'value': 'Why companies are...  2019-04-25T11:15:00Z   \n",
       "1  {'language': None, 'value': 'Stablecoins: Solv...  2019-04-25T11:00:00Z   \n",
       "2  {'language': None, 'value': 'Four short links:...  2019-04-25T10:50:00Z   \n",
       "\n",
       "                        updated_parsed  \n",
       "0  (2019, 4, 25, 11, 15, 0, 3, 115, 0)  \n",
       "1   (2019, 4, 25, 11, 0, 0, 3, 115, 0)  \n",
       "2  (2019, 4, 25, 10, 50, 0, 3, 115, 0)  "
      ]
     },
     "execution_count": 39,
     "metadata": {},
     "output_type": "execute_result"
    }
   ],
   "source": [
    "df = pd.DataFrame(reddit.entries)\n",
    "df.head(3)"
   ]
  },
  {
   "cell_type": "markdown",
   "metadata": {},
   "source": [
    "### 10. Count the number of entries per author and sort them in descending order."
   ]
  },
  {
   "cell_type": "code",
   "execution_count": 70,
   "metadata": {},
   "outputs": [
    {
     "data": {
      "text/html": [
       "<div>\n",
       "<style scoped>\n",
       "    .dataframe tbody tr th:only-of-type {\n",
       "        vertical-align: middle;\n",
       "    }\n",
       "\n",
       "    .dataframe tbody tr th {\n",
       "        vertical-align: top;\n",
       "    }\n",
       "\n",
       "    .dataframe thead th {\n",
       "        text-align: right;\n",
       "    }\n",
       "</style>\n",
       "<table border=\"1\" class=\"dataframe\">\n",
       "  <thead>\n",
       "    <tr style=\"text-align: right;\">\n",
       "      <th></th>\n",
       "      <th>author</th>\n",
       "      <th>title</th>\n",
       "    </tr>\n",
       "  </thead>\n",
       "  <tbody>\n",
       "    <tr>\n",
       "      <th>22</th>\n",
       "      <td>Nat Torkington</td>\n",
       "      <td>21</td>\n",
       "    </tr>\n",
       "    <tr>\n",
       "      <th>2</th>\n",
       "      <td>Ben Lorica</td>\n",
       "      <td>3</td>\n",
       "    </tr>\n",
       "    <tr>\n",
       "      <th>20</th>\n",
       "      <td>Mike Loukides</td>\n",
       "      <td>2</td>\n",
       "    </tr>\n",
       "    <tr>\n",
       "      <th>18</th>\n",
       "      <td>Mac Slocum</td>\n",
       "      <td>2</td>\n",
       "    </tr>\n",
       "    <tr>\n",
       "      <th>0</th>\n",
       "      <td>Aleksander Madry</td>\n",
       "      <td>1</td>\n",
       "    </tr>\n",
       "  </tbody>\n",
       "</table>\n",
       "</div>"
      ],
      "text/plain": [
       "              author  title\n",
       "22    Nat Torkington     21\n",
       "2         Ben Lorica      3\n",
       "20     Mike Loukides      2\n",
       "18        Mac Slocum      2\n",
       "0   Aleksander Madry      1"
      ]
     },
     "execution_count": 70,
     "metadata": {},
     "output_type": "execute_result"
    }
   ],
   "source": [
    "authors = df.groupby('author', as_index=False).agg({'title':'count'})\n",
    "authors= authors.sort_values('title', ascending=False)\n",
    "authors.rename(columns={'title':'entries'})\n",
    "authors.head()"
   ]
  },
  {
   "cell_type": "markdown",
   "metadata": {},
   "source": [
    "### 11. Add a new column to the data frame that contains the length (number of characters) of each entry title. Return a data frame that contains the title, author, and title length of each entry in descending order (longest title length at the top)."
   ]
  },
  {
   "cell_type": "code",
   "execution_count": 78,
   "metadata": {},
   "outputs": [
    {
     "data": {
      "text/html": [
       "<div>\n",
       "<style scoped>\n",
       "    .dataframe tbody tr th:only-of-type {\n",
       "        vertical-align: middle;\n",
       "    }\n",
       "\n",
       "    .dataframe tbody tr th {\n",
       "        vertical-align: top;\n",
       "    }\n",
       "\n",
       "    .dataframe thead th {\n",
       "        text-align: right;\n",
       "    }\n",
       "</style>\n",
       "<table border=\"1\" class=\"dataframe\">\n",
       "  <thead>\n",
       "    <tr style=\"text-align: right;\">\n",
       "      <th></th>\n",
       "      <th>title</th>\n",
       "      <th>author</th>\n",
       "      <th>title_length</th>\n",
       "    </tr>\n",
       "  </thead>\n",
       "  <tbody>\n",
       "    <tr>\n",
       "      <th>42</th>\n",
       "      <td>Specialized tools for machine learning develop...</td>\n",
       "      <td>Ben Lorica, Mike Loukides</td>\n",
       "      <td>94</td>\n",
       "    </tr>\n",
       "    <tr>\n",
       "      <th>31</th>\n",
       "      <td>What data scientists and data engineers can do...</td>\n",
       "      <td>Ben Lorica</td>\n",
       "      <td>94</td>\n",
       "    </tr>\n",
       "    <tr>\n",
       "      <th>53</th>\n",
       "      <td>Likewar: How social media is changing the worl...</td>\n",
       "      <td>Peter Singer</td>\n",
       "      <td>91</td>\n",
       "    </tr>\n",
       "    <tr>\n",
       "      <th>54</th>\n",
       "      <td>It’s time for data scientists to collaborate w...</td>\n",
       "      <td>Ben Lorica</td>\n",
       "      <td>82</td>\n",
       "    </tr>\n",
       "    <tr>\n",
       "      <th>47</th>\n",
       "      <td>Chatting with machines: Strange things 60 bill...</td>\n",
       "      <td>Lauren Kunze</td>\n",
       "      <td>81</td>\n",
       "    </tr>\n",
       "  </tbody>\n",
       "</table>\n",
       "</div>"
      ],
      "text/plain": [
       "                                                title  \\\n",
       "42  Specialized tools for machine learning develop...   \n",
       "31  What data scientists and data engineers can do...   \n",
       "53  Likewar: How social media is changing the worl...   \n",
       "54  It’s time for data scientists to collaborate w...   \n",
       "47  Chatting with machines: Strange things 60 bill...   \n",
       "\n",
       "                       author  title_length  \n",
       "42  Ben Lorica, Mike Loukides            94  \n",
       "31                 Ben Lorica            94  \n",
       "53               Peter Singer            91  \n",
       "54                 Ben Lorica            82  \n",
       "47               Lauren Kunze            81  "
      ]
     },
     "execution_count": 78,
     "metadata": {},
     "output_type": "execute_result"
    }
   ],
   "source": [
    "df['title_length'] = df['title'].apply(len)\n",
    "df[['title', 'author', 'title_length']].sort_values('title_length', ascending=False).head()"
   ]
  },
  {
   "cell_type": "markdown",
   "metadata": {},
   "source": [
    "### 12. Create a list of entry titles whose summary includes the phrase \"machine learning.\""
   ]
  },
  {
   "cell_type": "code",
   "execution_count": null,
   "metadata": {},
   "outputs": [],
   "source": []
  }
 ],
 "metadata": {
  "kernelspec": {
   "display_name": "Python 3",
   "language": "python",
   "name": "python3"
  },
  "language_info": {
   "codemirror_mode": {
    "name": "ipython",
    "version": 3
   },
   "file_extension": ".py",
   "mimetype": "text/x-python",
   "name": "python",
   "nbconvert_exporter": "python",
   "pygments_lexer": "ipython3",
   "version": "3.7.0"
  }
 },
 "nbformat": 4,
 "nbformat_minor": 2
}
